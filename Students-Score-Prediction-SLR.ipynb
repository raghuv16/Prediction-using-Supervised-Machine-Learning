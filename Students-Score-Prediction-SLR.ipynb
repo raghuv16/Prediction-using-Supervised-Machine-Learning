{
 "cells": [
  {
   "cell_type": "markdown",
   "id": "2198db9f",
   "metadata": {},
   "source": [
    "# THE SPARKS FOUNDATION"
   ]
  },
  {
   "cell_type": "markdown",
   "id": "ca1ea2e1",
   "metadata": {},
   "source": [
    "## GRIP MARCH 22(Data science and Business analytics)"
   ]
  },
  {
   "cell_type": "markdown",
   "id": "7dc8ec25",
   "metadata": {},
   "source": [
    "## Task 1 - Prediction using Supervised Machine Learning"
   ]
  },
  {
   "cell_type": "markdown",
   "id": "17985d73",
   "metadata": {},
   "source": [
    "### AUTHOR - RAGHUVARAN"
   ]
  },
  {
   "cell_type": "markdown",
   "id": "4f8615ca",
   "metadata": {},
   "source": [
    "### OBJECTIVE:\n",
    "* To predict the percentage of marks that a student is expected to score based upon the number of hours they studied. This is a simple linear regression task as it involves just two variables."
   ]
  },
  {
   "cell_type": "markdown",
   "id": "97b1f4d1",
   "metadata": {},
   "source": [
    "#### SIMPLE LINEAR REGRESSION"
   ]
  },
  {
   "cell_type": "markdown",
   "id": "7194ef49",
   "metadata": {},
   "source": [
    "**Importing necessary Libraries**"
   ]
  },
  {
   "cell_type": "code",
   "execution_count": 1,
   "id": "5ec30b73",
   "metadata": {},
   "outputs": [],
   "source": [
    "import numpy as np\n",
    "import pandas as pd\n",
    "import matplotlib.pyplot as plt\n",
    "import seaborn as sns\n",
    "\n",
    "from warnings import filterwarnings\n",
    "filterwarnings('ignore')\n",
    "\n",
    "from sklearn.linear_model import LinearRegression\n",
    "\n",
    "from sklearn.model_selection import train_test_split\n",
    "\n",
    "from sklearn import metrics"
   ]
  },
  {
   "cell_type": "code",
   "execution_count": 2,
   "id": "d257c1ae",
   "metadata": {},
   "outputs": [
    {
     "data": {
      "text/html": [
       "<div>\n",
       "<style scoped>\n",
       "    .dataframe tbody tr th:only-of-type {\n",
       "        vertical-align: middle;\n",
       "    }\n",
       "\n",
       "    .dataframe tbody tr th {\n",
       "        vertical-align: top;\n",
       "    }\n",
       "\n",
       "    .dataframe thead th {\n",
       "        text-align: right;\n",
       "    }\n",
       "</style>\n",
       "<table border=\"1\" class=\"dataframe\">\n",
       "  <thead>\n",
       "    <tr style=\"text-align: right;\">\n",
       "      <th></th>\n",
       "      <th>Hours</th>\n",
       "      <th>Scores</th>\n",
       "    </tr>\n",
       "  </thead>\n",
       "  <tbody>\n",
       "    <tr>\n",
       "      <th>0</th>\n",
       "      <td>2.5</td>\n",
       "      <td>21</td>\n",
       "    </tr>\n",
       "    <tr>\n",
       "      <th>1</th>\n",
       "      <td>5.1</td>\n",
       "      <td>47</td>\n",
       "    </tr>\n",
       "    <tr>\n",
       "      <th>2</th>\n",
       "      <td>3.2</td>\n",
       "      <td>27</td>\n",
       "    </tr>\n",
       "    <tr>\n",
       "      <th>3</th>\n",
       "      <td>8.5</td>\n",
       "      <td>75</td>\n",
       "    </tr>\n",
       "    <tr>\n",
       "      <th>4</th>\n",
       "      <td>3.5</td>\n",
       "      <td>30</td>\n",
       "    </tr>\n",
       "    <tr>\n",
       "      <th>5</th>\n",
       "      <td>1.5</td>\n",
       "      <td>20</td>\n",
       "    </tr>\n",
       "    <tr>\n",
       "      <th>6</th>\n",
       "      <td>9.2</td>\n",
       "      <td>88</td>\n",
       "    </tr>\n",
       "    <tr>\n",
       "      <th>7</th>\n",
       "      <td>5.5</td>\n",
       "      <td>60</td>\n",
       "    </tr>\n",
       "    <tr>\n",
       "      <th>8</th>\n",
       "      <td>8.3</td>\n",
       "      <td>81</td>\n",
       "    </tr>\n",
       "    <tr>\n",
       "      <th>9</th>\n",
       "      <td>2.7</td>\n",
       "      <td>25</td>\n",
       "    </tr>\n",
       "  </tbody>\n",
       "</table>\n",
       "</div>"
      ],
      "text/plain": [
       "   Hours  Scores\n",
       "0    2.5      21\n",
       "1    5.1      47\n",
       "2    3.2      27\n",
       "3    8.5      75\n",
       "4    3.5      30\n",
       "5    1.5      20\n",
       "6    9.2      88\n",
       "7    5.5      60\n",
       "8    8.3      81\n",
       "9    2.7      25"
      ]
     },
     "execution_count": 2,
     "metadata": {},
     "output_type": "execute_result"
    }
   ],
   "source": [
    "# Reading data from url link\n",
    "\n",
    "df = pd.read_csv('http://bit.ly/w-data')\n",
    "\n",
    "df.head(10)"
   ]
  },
  {
   "cell_type": "markdown",
   "id": "8f9f177a",
   "metadata": {},
   "source": [
    "## Understanding the Dataset"
   ]
  },
  {
   "cell_type": "markdown",
   "id": "ccc2d4de",
   "metadata": {},
   "source": [
    "### Data Dimension"
   ]
  },
  {
   "cell_type": "code",
   "execution_count": 3,
   "id": "2eaaa8ed",
   "metadata": {},
   "outputs": [
    {
     "data": {
      "text/plain": [
       "(25, 2)"
      ]
     },
     "execution_count": 3,
     "metadata": {},
     "output_type": "execute_result"
    }
   ],
   "source": [
    "df.shape"
   ]
  },
  {
   "cell_type": "markdown",
   "id": "b1b99387",
   "metadata": {},
   "source": [
    "**We can see the dataframe has 13 columns and 15000 observations.**"
   ]
  },
  {
   "cell_type": "markdown",
   "id": "b104e2ec",
   "metadata": {},
   "source": [
    "### Data Definition"
   ]
  },
  {
   "cell_type": "code",
   "execution_count": 4,
   "id": "54cf6f63",
   "metadata": {},
   "outputs": [
    {
     "data": {
      "text/plain": [
       "Hours     float64\n",
       "Scores      int64\n",
       "dtype: object"
      ]
     },
     "execution_count": 4,
     "metadata": {},
     "output_type": "execute_result"
    }
   ],
   "source": [
    "df.dtypes"
   ]
  },
  {
   "cell_type": "markdown",
   "id": "9d29f8c9",
   "metadata": {},
   "source": [
    "**Hours:** Number of hours students studied (Numeric)\n",
    "\n",
    "**Scores:** Scores obtained by students (Numeric)"
   ]
  },
  {
   "cell_type": "markdown",
   "id": "f25a902a",
   "metadata": {},
   "source": [
    "### Summary Statistics"
   ]
  },
  {
   "cell_type": "code",
   "execution_count": 5,
   "id": "7f1f0808",
   "metadata": {},
   "outputs": [
    {
     "data": {
      "text/html": [
       "<div>\n",
       "<style scoped>\n",
       "    .dataframe tbody tr th:only-of-type {\n",
       "        vertical-align: middle;\n",
       "    }\n",
       "\n",
       "    .dataframe tbody tr th {\n",
       "        vertical-align: top;\n",
       "    }\n",
       "\n",
       "    .dataframe thead th {\n",
       "        text-align: right;\n",
       "    }\n",
       "</style>\n",
       "<table border=\"1\" class=\"dataframe\">\n",
       "  <thead>\n",
       "    <tr style=\"text-align: right;\">\n",
       "      <th></th>\n",
       "      <th>Hours</th>\n",
       "      <th>Scores</th>\n",
       "    </tr>\n",
       "  </thead>\n",
       "  <tbody>\n",
       "    <tr>\n",
       "      <th>count</th>\n",
       "      <td>25.000000</td>\n",
       "      <td>25.000000</td>\n",
       "    </tr>\n",
       "    <tr>\n",
       "      <th>mean</th>\n",
       "      <td>5.012000</td>\n",
       "      <td>51.480000</td>\n",
       "    </tr>\n",
       "    <tr>\n",
       "      <th>std</th>\n",
       "      <td>2.525094</td>\n",
       "      <td>25.286887</td>\n",
       "    </tr>\n",
       "    <tr>\n",
       "      <th>min</th>\n",
       "      <td>1.100000</td>\n",
       "      <td>17.000000</td>\n",
       "    </tr>\n",
       "    <tr>\n",
       "      <th>25%</th>\n",
       "      <td>2.700000</td>\n",
       "      <td>30.000000</td>\n",
       "    </tr>\n",
       "    <tr>\n",
       "      <th>50%</th>\n",
       "      <td>4.800000</td>\n",
       "      <td>47.000000</td>\n",
       "    </tr>\n",
       "    <tr>\n",
       "      <th>75%</th>\n",
       "      <td>7.400000</td>\n",
       "      <td>75.000000</td>\n",
       "    </tr>\n",
       "    <tr>\n",
       "      <th>max</th>\n",
       "      <td>9.200000</td>\n",
       "      <td>95.000000</td>\n",
       "    </tr>\n",
       "  </tbody>\n",
       "</table>\n",
       "</div>"
      ],
      "text/plain": [
       "           Hours     Scores\n",
       "count  25.000000  25.000000\n",
       "mean    5.012000  51.480000\n",
       "std     2.525094  25.286887\n",
       "min     1.100000  17.000000\n",
       "25%     2.700000  30.000000\n",
       "50%     4.800000  47.000000\n",
       "75%     7.400000  75.000000\n",
       "max     9.200000  95.000000"
      ]
     },
     "execution_count": 5,
     "metadata": {},
     "output_type": "execute_result"
    }
   ],
   "source": [
    "# descriptive statistics\n",
    "df.describe()"
   ]
  },
  {
   "cell_type": "markdown",
   "id": "d120deff",
   "metadata": {},
   "source": [
    "**Inference:**\n",
    "* The average studying hours of students is **5 hours/day** and their average score is **51**(Average).\n",
    "* Students who are studying atleast **1 hour/day** and their average score is **17**(Minimum).\n",
    "* At maximum ,Students are studying **9.2 hours/day** and their score is **95**(Maximum)."
   ]
  },
  {
   "cell_type": "markdown",
   "id": "0d44f158",
   "metadata": {},
   "source": [
    "## Checking for missing values"
   ]
  },
  {
   "cell_type": "code",
   "execution_count": 6,
   "id": "d388b12d",
   "metadata": {},
   "outputs": [
    {
     "name": "stdout",
     "output_type": "stream",
     "text": [
      "<class 'pandas.core.frame.DataFrame'>\n",
      "RangeIndex: 25 entries, 0 to 24\n",
      "Data columns (total 2 columns):\n",
      " #   Column  Non-Null Count  Dtype  \n",
      "---  ------  --------------  -----  \n",
      " 0   Hours   25 non-null     float64\n",
      " 1   Scores  25 non-null     int64  \n",
      "dtypes: float64(1), int64(1)\n",
      "memory usage: 528.0 bytes\n"
     ]
    }
   ],
   "source": [
    "df.info()"
   ]
  },
  {
   "cell_type": "code",
   "execution_count": 7,
   "id": "984fc285",
   "metadata": {},
   "outputs": [
    {
     "data": {
      "text/plain": [
       "Hours     0\n",
       "Scores    0\n",
       "dtype: int64"
      ]
     },
     "execution_count": 7,
     "metadata": {},
     "output_type": "execute_result"
    }
   ],
   "source": [
    "df.isnull().sum()"
   ]
  },
  {
   "cell_type": "markdown",
   "id": "24f6ba27",
   "metadata": {},
   "source": [
    "**We can infer that there are no null column.**\n",
    "**There is no missing values in our dataset.**"
   ]
  },
  {
   "cell_type": "markdown",
   "id": "39fc5bfb",
   "metadata": {},
   "source": [
    "## Checking for Outliers"
   ]
  },
  {
   "cell_type": "code",
   "execution_count": 8,
   "id": "bd49f21c",
   "metadata": {},
   "outputs": [
    {
     "data": {
      "image/png": "[encoded data removed]",
      "text/plain": [
       "<Figure size 720x432 with 1 Axes>"
      ]
     },
     "metadata": {
      "needs_background": "light"
     },
     "output_type": "display_data"
    }
   ],
   "source": [
    "plt.rcParams['figure.figsize']=(10,6)\n",
    "\n",
    "df.boxplot()\n",
    "\n",
    "plt.show()"
   ]
  },
  {
   "cell_type": "markdown",
   "id": "35582c39",
   "metadata": {},
   "source": [
    "**There is no outliers or extreme observations present in the dataset**"
   ]
  },
  {
   "cell_type": "markdown",
   "id": "501c10f9",
   "metadata": {},
   "source": [
    "## Checking for Correlation"
   ]
  },
  {
   "cell_type": "code",
   "execution_count": 9,
   "id": "7c50faa7",
   "metadata": {},
   "outputs": [
    {
     "data": {
      "image/png": "[encoded data removed]",
      "text/plain": [
       "<Figure size 360x360 with 6 Axes>"
      ]
     },
     "metadata": {
      "needs_background": "light"
     },
     "output_type": "display_data"
    }
   ],
   "source": [
    "sns.pairplot(df);"
   ]
  },
  {
   "cell_type": "code",
   "execution_count": 10,
   "id": "73d0082b",
   "metadata": {},
   "outputs": [
    {
     "data": {
      "image/png": "[encoded data removed]",
      "text/plain": [
       "<Figure size 432x288 with 2 Axes>"
      ]
     },
     "metadata": {
      "needs_background": "light"
     },
     "output_type": "display_data"
    }
   ],
   "source": [
    "plt.figure(figsize=(6,4))\n",
    "sns.heatmap(df.corr(), annot = True,annot_kws={\"size\": 15})\n",
    "plt.title('Correlation plot')\n",
    "plt.show()"
   ]
  },
  {
   "cell_type": "markdown",
   "id": "5db7c1d7",
   "metadata": {},
   "source": [
    "**We can infer that there is high positive correlation between these two variables**\n"
   ]
  },
  {
   "cell_type": "markdown",
   "id": "85e49984",
   "metadata": {},
   "source": [
    "### Distribution Plots"
   ]
  },
  {
   "cell_type": "code",
   "execution_count": 11,
   "id": "d7764a65",
   "metadata": {},
   "outputs": [
    {
     "data": {
      "image/png": "[encoded data removed]",
      "text/plain": [
       "<Figure size 1080x432 with 2 Axes>"
      ]
     },
     "metadata": {
      "needs_background": "light"
     },
     "output_type": "display_data"
    }
   ],
   "source": [
    "fig,ax = plt.subplots(1,2,figsize=(15,6))\n",
    "\n",
    "for var,ax in zip(df.columns,ax.flatten()):\n",
    "    z = sns.distplot(df[var],ax=ax)\n",
    "    z.set_xlabel(var,fontsize=20)\n",
    "        "
   ]
  },
  {
   "cell_type": "code",
   "execution_count": 12,
   "id": "a340f2bb",
   "metadata": {},
   "outputs": [
    {
     "data": {
      "text/plain": [
       "Hours     0.190338\n",
       "Scores    0.233965\n",
       "dtype: float64"
      ]
     },
     "execution_count": 12,
     "metadata": {},
     "output_type": "execute_result"
    }
   ],
   "source": [
    "# skewness\n",
    "df.skew()"
   ]
  },
  {
   "cell_type": "markdown",
   "id": "729ede60",
   "metadata": {},
   "source": [
    "**We can infer that those variables follows near normal distribution**"
   ]
  },
  {
   "cell_type": "markdown",
   "id": "c636f765",
   "metadata": {},
   "source": [
    "### Train Test Split"
   ]
  },
  {
   "cell_type": "code",
   "execution_count": 13,
   "id": "100f4e8a",
   "metadata": {},
   "outputs": [
    {
     "name": "stdout",
     "output_type": "stream",
     "text": [
      "X_train shape: (17, 1)\n",
      "X_test shape: (8, 1)\n",
      "y_train shape: (17,)\n",
      "y_test shape: (8,)\n"
     ]
    }
   ],
   "source": [
    "X = df.iloc[:,:1]\n",
    "y = df['Scores']\n",
    "\n",
    "X_train, X_test, y_train, y_test = train_test_split(X, y,test_size=0.3,random_state=42)\n",
    "\n",
    "print(\"X_train shape:\",X_train.shape)\n",
    "print(\"X_test shape:\",X_test.shape)\n",
    "print(\"y_train shape:\",y_train.shape)\n",
    "print(\"y_test shape:\",y_test.shape)"
   ]
  },
  {
   "cell_type": "markdown",
   "id": "24ce7d13",
   "metadata": {},
   "source": [
    "## Model Building "
   ]
  },
  {
   "cell_type": "code",
   "execution_count": 14,
   "id": "b4075a7a",
   "metadata": {},
   "outputs": [
    {
     "data": {
      "text/plain": [
       "LinearRegression()"
      ]
     },
     "execution_count": 14,
     "metadata": {},
     "output_type": "execute_result"
    }
   ],
   "source": [
    "model = LinearRegression()\n",
    "model.fit(X_train,y_train)"
   ]
  },
  {
   "cell_type": "markdown",
   "id": "519e7eef",
   "metadata": {},
   "source": [
    "## Model Parameters"
   ]
  },
  {
   "cell_type": "code",
   "execution_count": 15,
   "id": "1253e8a3",
   "metadata": {},
   "outputs": [
    {
     "name": "stdout",
     "output_type": "stream",
     "text": [
      "Intercept: 2.794196676599803\n",
      "Beta coefficient: [9.71054094]\n"
     ]
    }
   ],
   "source": [
    "print('Intercept:',model.intercept_)\n",
    "print('Beta coefficient:', model.coef_)"
   ]
  },
  {
   "cell_type": "markdown",
   "id": "2769fe64",
   "metadata": {},
   "source": [
    "## Plotting Regression Line"
   ]
  },
  {
   "cell_type": "code",
   "execution_count": 16,
   "id": "7338358d",
   "metadata": {},
   "outputs": [
    {
     "data": {
      "image/png": "[encoded data removed]",
      "text/plain": [
       "<Figure size 576x360 with 1 Axes>"
      ]
     },
     "metadata": {
      "needs_background": "light"
     },
     "output_type": "display_data"
    }
   ],
   "source": [
    "plt.figure(figsize=(8,5))\n",
    "plt.scatter(X,y)\n",
    "plt.xlabel(\"Hours\")\n",
    "plt.ylabel(\"Scores\")\n",
    "reg_line = model.coef_*X+model.intercept_\n",
    "plt.plot(X.Hours,reg_line.Hours,'r');"
   ]
  },
  {
   "cell_type": "markdown",
   "id": "37117eae",
   "metadata": {},
   "source": [
    "### Train Prediction"
   ]
  },
  {
   "cell_type": "code",
   "execution_count": 17,
   "id": "bcf1a054",
   "metadata": {},
   "outputs": [
    {
     "data": {
      "text/plain": [
       "array([39.69425223, 17.36000808, 33.86792767, 46.49163089, 89.21801101,\n",
       "       85.33379464, 36.78108995, 29.0126572 , 21.24422446, 49.40479317,\n",
       "       62.02849639, 78.53641598, 56.20217183, 77.56536189, 13.47579171,\n",
       "       74.65219961, 92.13117329])"
      ]
     },
     "execution_count": 17,
     "metadata": {},
     "output_type": "execute_result"
    }
   ],
   "source": [
    "y_train_pred = model.predict(X_train)\n",
    "y_train_pred"
   ]
  },
  {
   "cell_type": "code",
   "execution_count": 18,
   "id": "06b52c69",
   "metadata": {},
   "outputs": [
    {
     "name": "stdout",
     "output_type": "stream",
     "text": [
      "R-Square Value: 0.954\n"
     ]
    }
   ],
   "source": [
    "print(\"R-Square Value:\" ,round(metrics.r2_score(y_train, y_train_pred),3))"
   ]
  },
  {
   "cell_type": "markdown",
   "id": "a9319ba4",
   "metadata": {},
   "source": [
    "**From the R-sqaure value we can infer that 95% variation of the model can be explained by Hours variable**"
   ]
  },
  {
   "cell_type": "markdown",
   "id": "6073fe80",
   "metadata": {},
   "source": [
    "### Comparing predicted and actual values of Train data"
   ]
  },
  {
   "cell_type": "code",
   "execution_count": 19,
   "id": "ef8c0611",
   "metadata": {
    "scrolled": false
   },
   "outputs": [
    {
     "data": {
      "text/html": [
       "<div>\n",
       "<style scoped>\n",
       "    .dataframe tbody tr th:only-of-type {\n",
       "        vertical-align: middle;\n",
       "    }\n",
       "\n",
       "    .dataframe tbody tr th {\n",
       "        vertical-align: top;\n",
       "    }\n",
       "\n",
       "    .dataframe thead th {\n",
       "        text-align: right;\n",
       "    }\n",
       "</style>\n",
       "<table border=\"1\" class=\"dataframe\">\n",
       "  <thead>\n",
       "    <tr style=\"text-align: right;\">\n",
       "      <th></th>\n",
       "      <th>Predicted</th>\n",
       "      <th>Actual</th>\n",
       "      <th>Error</th>\n",
       "    </tr>\n",
       "  </thead>\n",
       "  <tbody>\n",
       "    <tr>\n",
       "      <th>0</th>\n",
       "      <td>39.694252</td>\n",
       "      <td>35</td>\n",
       "      <td>4.694252</td>\n",
       "    </tr>\n",
       "    <tr>\n",
       "      <th>1</th>\n",
       "      <td>17.360008</td>\n",
       "      <td>20</td>\n",
       "      <td>-2.639992</td>\n",
       "    </tr>\n",
       "    <tr>\n",
       "      <th>2</th>\n",
       "      <td>33.867928</td>\n",
       "      <td>27</td>\n",
       "      <td>6.867928</td>\n",
       "    </tr>\n",
       "    <tr>\n",
       "      <th>3</th>\n",
       "      <td>46.491631</td>\n",
       "      <td>41</td>\n",
       "      <td>5.491631</td>\n",
       "    </tr>\n",
       "    <tr>\n",
       "      <th>4</th>\n",
       "      <td>89.218011</td>\n",
       "      <td>95</td>\n",
       "      <td>-5.781989</td>\n",
       "    </tr>\n",
       "    <tr>\n",
       "      <th>5</th>\n",
       "      <td>85.333795</td>\n",
       "      <td>75</td>\n",
       "      <td>10.333795</td>\n",
       "    </tr>\n",
       "    <tr>\n",
       "      <th>6</th>\n",
       "      <td>36.781090</td>\n",
       "      <td>30</td>\n",
       "      <td>6.781090</td>\n",
       "    </tr>\n",
       "    <tr>\n",
       "      <th>7</th>\n",
       "      <td>29.012657</td>\n",
       "      <td>30</td>\n",
       "      <td>-0.987343</td>\n",
       "    </tr>\n",
       "    <tr>\n",
       "      <th>8</th>\n",
       "      <td>21.244224</td>\n",
       "      <td>24</td>\n",
       "      <td>-2.755776</td>\n",
       "    </tr>\n",
       "    <tr>\n",
       "      <th>9</th>\n",
       "      <td>49.404793</td>\n",
       "      <td>54</td>\n",
       "      <td>-4.595207</td>\n",
       "    </tr>\n",
       "    <tr>\n",
       "      <th>10</th>\n",
       "      <td>62.028496</td>\n",
       "      <td>67</td>\n",
       "      <td>-4.971504</td>\n",
       "    </tr>\n",
       "    <tr>\n",
       "      <th>11</th>\n",
       "      <td>78.536416</td>\n",
       "      <td>86</td>\n",
       "      <td>-7.463584</td>\n",
       "    </tr>\n",
       "    <tr>\n",
       "      <th>12</th>\n",
       "      <td>56.202172</td>\n",
       "      <td>60</td>\n",
       "      <td>-3.797828</td>\n",
       "    </tr>\n",
       "    <tr>\n",
       "      <th>13</th>\n",
       "      <td>77.565362</td>\n",
       "      <td>85</td>\n",
       "      <td>-7.434638</td>\n",
       "    </tr>\n",
       "    <tr>\n",
       "      <th>14</th>\n",
       "      <td>13.475792</td>\n",
       "      <td>17</td>\n",
       "      <td>-3.524208</td>\n",
       "    </tr>\n",
       "    <tr>\n",
       "      <th>15</th>\n",
       "      <td>74.652200</td>\n",
       "      <td>69</td>\n",
       "      <td>5.652200</td>\n",
       "    </tr>\n",
       "    <tr>\n",
       "      <th>16</th>\n",
       "      <td>92.131173</td>\n",
       "      <td>88</td>\n",
       "      <td>4.131173</td>\n",
       "    </tr>\n",
       "  </tbody>\n",
       "</table>\n",
       "</div>"
      ],
      "text/plain": [
       "    Predicted  Actual      Error\n",
       "0   39.694252      35   4.694252\n",
       "1   17.360008      20  -2.639992\n",
       "2   33.867928      27   6.867928\n",
       "3   46.491631      41   5.491631\n",
       "4   89.218011      95  -5.781989\n",
       "5   85.333795      75  10.333795\n",
       "6   36.781090      30   6.781090\n",
       "7   29.012657      30  -0.987343\n",
       "8   21.244224      24  -2.755776\n",
       "9   49.404793      54  -4.595207\n",
       "10  62.028496      67  -4.971504\n",
       "11  78.536416      86  -7.463584\n",
       "12  56.202172      60  -3.797828\n",
       "13  77.565362      85  -7.434638\n",
       "14  13.475792      17  -3.524208\n",
       "15  74.652200      69   5.652200\n",
       "16  92.131173      88   4.131173"
      ]
     },
     "execution_count": 19,
     "metadata": {},
     "output_type": "execute_result"
    }
   ],
   "source": [
    "pd.DataFrame({'Predicted' : y_train_pred,'Actual' : y_train,'Error': y_train_pred - y_train}).reset_index(drop = True)"
   ]
  },
  {
   "cell_type": "markdown",
   "id": "e8bc0875",
   "metadata": {},
   "source": [
    "### Test Prediction"
   ]
  },
  {
   "cell_type": "code",
   "execution_count": 20,
   "id": "119fcf10",
   "metadata": {},
   "outputs": [
    {
     "data": {
      "text/plain": [
       "array([83.39168645, 27.07054902, 27.07054902, 69.79692914, 60.0863882 ,\n",
       "       29.0126572 , 34.83898177, 52.31795545])"
      ]
     },
     "execution_count": 20,
     "metadata": {},
     "output_type": "execute_result"
    }
   ],
   "source": [
    "y_test_pred = model.predict(X_test)\n",
    "y_test_pred"
   ]
  },
  {
   "cell_type": "code",
   "execution_count": 21,
   "id": "720c4288",
   "metadata": {},
   "outputs": [
    {
     "name": "stdout",
     "output_type": "stream",
     "text": [
      "R-Square Value: 0.949\n"
     ]
    }
   ],
   "source": [
    "print(\"R-Square Value:\" ,round(metrics.r2_score(y_test, y_test_pred),3))"
   ]
  },
  {
   "cell_type": "markdown",
   "id": "8df1580b",
   "metadata": {},
   "source": [
    "### Comparing predicted and actual values of Test data"
   ]
  },
  {
   "cell_type": "code",
   "execution_count": 22,
   "id": "846ba111",
   "metadata": {},
   "outputs": [
    {
     "data": {
      "text/html": [
       "<div>\n",
       "<style scoped>\n",
       "    .dataframe tbody tr th:only-of-type {\n",
       "        vertical-align: middle;\n",
       "    }\n",
       "\n",
       "    .dataframe tbody tr th {\n",
       "        vertical-align: top;\n",
       "    }\n",
       "\n",
       "    .dataframe thead th {\n",
       "        text-align: right;\n",
       "    }\n",
       "</style>\n",
       "<table border=\"1\" class=\"dataframe\">\n",
       "  <thead>\n",
       "    <tr style=\"text-align: right;\">\n",
       "      <th></th>\n",
       "      <th>Predicted</th>\n",
       "      <th>Actual</th>\n",
       "      <th>Error</th>\n",
       "    </tr>\n",
       "  </thead>\n",
       "  <tbody>\n",
       "    <tr>\n",
       "      <th>0</th>\n",
       "      <td>83.391686</td>\n",
       "      <td>81</td>\n",
       "      <td>2.391686</td>\n",
       "    </tr>\n",
       "    <tr>\n",
       "      <th>1</th>\n",
       "      <td>27.070549</td>\n",
       "      <td>30</td>\n",
       "      <td>-2.929451</td>\n",
       "    </tr>\n",
       "    <tr>\n",
       "      <th>2</th>\n",
       "      <td>27.070549</td>\n",
       "      <td>21</td>\n",
       "      <td>6.070549</td>\n",
       "    </tr>\n",
       "    <tr>\n",
       "      <th>3</th>\n",
       "      <td>69.796929</td>\n",
       "      <td>76</td>\n",
       "      <td>-6.203071</td>\n",
       "    </tr>\n",
       "    <tr>\n",
       "      <th>4</th>\n",
       "      <td>60.086388</td>\n",
       "      <td>62</td>\n",
       "      <td>-1.913612</td>\n",
       "    </tr>\n",
       "    <tr>\n",
       "      <th>5</th>\n",
       "      <td>29.012657</td>\n",
       "      <td>25</td>\n",
       "      <td>4.012657</td>\n",
       "    </tr>\n",
       "    <tr>\n",
       "      <th>6</th>\n",
       "      <td>34.838982</td>\n",
       "      <td>42</td>\n",
       "      <td>-7.161018</td>\n",
       "    </tr>\n",
       "    <tr>\n",
       "      <th>7</th>\n",
       "      <td>52.317955</td>\n",
       "      <td>47</td>\n",
       "      <td>5.317955</td>\n",
       "    </tr>\n",
       "  </tbody>\n",
       "</table>\n",
       "</div>"
      ],
      "text/plain": [
       "   Predicted  Actual     Error\n",
       "0  83.391686      81  2.391686\n",
       "1  27.070549      30 -2.929451\n",
       "2  27.070549      21  6.070549\n",
       "3  69.796929      76 -6.203071\n",
       "4  60.086388      62 -1.913612\n",
       "5  29.012657      25  4.012657\n",
       "6  34.838982      42 -7.161018\n",
       "7  52.317955      47  5.317955"
      ]
     },
     "execution_count": 22,
     "metadata": {},
     "output_type": "execute_result"
    }
   ],
   "source": [
    "pd.DataFrame({'Predicted' : y_test_pred,'Actual' : y_test,'Error': y_test_pred - y_test}).reset_index(drop = True)"
   ]
  },
  {
   "cell_type": "markdown",
   "id": "169e60b0",
   "metadata": {},
   "source": [
    "## Model Evaluation"
   ]
  },
  {
   "cell_type": "code",
   "execution_count": 23,
   "id": "623171a2",
   "metadata": {},
   "outputs": [],
   "source": [
    "def mape(actual, predicted):\n",
    "    return (np.mean(np.abs((actual - predicted) / actual)) * 100)"
   ]
  },
  {
   "cell_type": "code",
   "execution_count": 24,
   "id": "084f6f8c",
   "metadata": {},
   "outputs": [
    {
     "data": {
      "text/html": [
       "<div>\n",
       "<style scoped>\n",
       "    .dataframe tbody tr th:only-of-type {\n",
       "        vertical-align: middle;\n",
       "    }\n",
       "\n",
       "    .dataframe tbody tr th {\n",
       "        vertical-align: top;\n",
       "    }\n",
       "\n",
       "    .dataframe thead th {\n",
       "        text-align: right;\n",
       "    }\n",
       "</style>\n",
       "<table border=\"1\" class=\"dataframe\">\n",
       "  <thead>\n",
       "    <tr style=\"text-align: right;\">\n",
       "      <th></th>\n",
       "      <th>Name</th>\n",
       "      <th>R-squared</th>\n",
       "      <th>MSE</th>\n",
       "      <th>RMSE</th>\n",
       "      <th>MAE</th>\n",
       "      <th>MAPE</th>\n",
       "    </tr>\n",
       "  </thead>\n",
       "  <tbody>\n",
       "    <tr>\n",
       "      <th>0</th>\n",
       "      <td>Train Predictions</td>\n",
       "      <td>0.954</td>\n",
       "      <td>31.398</td>\n",
       "      <td>5.603</td>\n",
       "      <td>5.171</td>\n",
       "      <td>11.529</td>\n",
       "    </tr>\n",
       "    <tr>\n",
       "      <th>1</th>\n",
       "      <td>Test Predictions</td>\n",
       "      <td>0.949</td>\n",
       "      <td>23.619</td>\n",
       "      <td>4.86</td>\n",
       "      <td>4.5</td>\n",
       "      <td>12.161</td>\n",
       "    </tr>\n",
       "  </tbody>\n",
       "</table>\n",
       "</div>"
      ],
      "text/plain": [
       "                Name R-squared     MSE   RMSE    MAE    MAPE\n",
       "0  Train Predictions     0.954  31.398  5.603  5.171  11.529\n",
       "1   Test Predictions     0.949  23.619   4.86    4.5  12.161"
      ]
     },
     "execution_count": 24,
     "metadata": {},
     "output_type": "execute_result"
    }
   ],
   "source": [
    "# Creating Result table to compare train-test predictions\n",
    "\n",
    "cols = ['Name', 'R-squared','MSE', 'RMSE', 'MAE', 'MAPE']\n",
    "score_card = pd.DataFrame(columns = cols)\n",
    "\n",
    "# finding performance metrics for train data\n",
    "train_metrics = pd.Series({'Name': \"Train Predictions\",\n",
    "                     'R-squared': round(metrics.r2_score(y_train, y_train_pred),3) ,\n",
    "                     'MSE': round(metrics.mean_squared_error(y_train, y_train_pred),3),\n",
    "                     'RMSE':round(np.sqrt(metrics.mean_squared_error(y_train, y_train_pred)),3),\n",
    "                     'MAE': round(metrics.mean_absolute_error(y_train, y_train_pred),3),\n",
    "                     'MAPE':round(mape(y_train, y_train_pred),3)})\n",
    "\n",
    "# finding performance metrics for test data\n",
    "test_metrics = pd.Series({'Name': \"Test Predictions\",\n",
    "                     'R-squared': round(metrics.r2_score(y_test, y_test_pred),3) ,\n",
    "                     'MSE': round(metrics.mean_squared_error(y_test, y_test_pred),3),\n",
    "                     'RMSE':round(np.sqrt(metrics.mean_squared_error(y_test, y_test_pred)),3),\n",
    "                     'MAE': round(metrics.mean_absolute_error(y_test, y_test_pred),3),\n",
    "                     'MAPE':round(mape(y_test, y_test_pred),3)})\n",
    "\n",
    "score_card = score_card.append([train_metrics,test_metrics], ignore_index = True)\n",
    "\n",
    "score_card"
   ]
  },
  {
   "cell_type": "markdown",
   "id": "6b2176da",
   "metadata": {},
   "source": [
    "## What will be predicted score if a student studies for 9.25 hrs/ day?"
   ]
  },
  {
   "cell_type": "code",
   "execution_count": 25,
   "id": "0158d0da",
   "metadata": {},
   "outputs": [
    {
     "name": "stdout",
     "output_type": "stream",
     "text": [
      "Predicted_score: [92.61670034]\n"
     ]
    }
   ],
   "source": [
    "prediction = model.predict([[9.25]])\n",
    "print(\"Predicted_score:\",prediction)"
   ]
  },
  {
   "cell_type": "markdown",
   "id": "8b0c951c",
   "metadata": {},
   "source": [
    "### Final Interpretation:"
   ]
  },
  {
   "cell_type": "markdown",
   "id": "afb59a16",
   "metadata": {},
   "source": [
    "* The R-Squared value for the  model is 95% on both train and test indicates that 95% of the variation in target variable can be explained by this model.\n",
    "* Model Accuracy is 95%\n",
    "* There is a strong positive correlation between Hours and Scores.\n",
    "* RMSE of both train & test is less indicates model performance is good.\n",
    "* A student who studies for 9.25 hours is predicted to score around 92.3"
   ]
  },
  {
   "cell_type": "markdown",
   "id": "1032c4a8",
   "metadata": {},
   "source": [
    "# END"
   ]
  }
 ],
 "metadata": {
  "kernelspec": {
   "display_name": "Python 3 (ipykernel)",
   "language": "python",
   "name": "python3"
  },
  "language_info": {
   "codemirror_mode": {
    "name": "ipython",
    "version": 3
   },
   "file_extension": ".py",
   "mimetype": "text/x-python",
   "name": "python",
   "nbconvert_exporter": "python",
   "pygments_lexer": "ipython3",
   "version": "3.8.12"
  }
 },
 "nbformat": 4,
 "nbformat_minor": 5
}
